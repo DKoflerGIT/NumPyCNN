{
 "cells": [
  {
   "cell_type": "code",
   "execution_count": 1,
   "metadata": {},
   "outputs": [],
   "source": [
    "import numpy as np"
   ]
  },
  {
   "cell_type": "code",
   "execution_count": 27,
   "metadata": {},
   "outputs": [
    {
     "data": {
      "text/plain": [
       "array([[128,  26, 189, 155,  22,  34],\n",
       "       [195, 178, 168,  32, 158, 185],\n",
       "       [104, 217, 108, 123, 130, 141],\n",
       "       [ 87, 236,  22, 201, 175, 195],\n",
       "       [120, 168,   9, 237, 128, 188],\n",
       "       [ 58, 253, 213, 246, 187, 227]])"
      ]
     },
     "execution_count": 27,
     "metadata": {},
     "output_type": "execute_result"
    }
   ],
   "source": [
    "image = np.random.randint(0, 255, (6, 6, 3))\n",
    "kernel_overhang = 2\n",
    "image[:, :, 0]"
   ]
  },
  {
   "cell_type": "code",
   "execution_count": 31,
   "metadata": {},
   "outputs": [],
   "source": [
    "image_p = image.copy()\n",
    "width = image.shape[1]\n",
    "height = image.shape[0]\n",
    "depth = image.shape[2]\n",
    "\n",
    "zeros_x = np.zeros((kernel_overhang, width, depth)) \n",
    "zeros_y = np.zeros((height + 2 * kernel_overhang, kernel_overhang, depth))"
   ]
  },
  {
   "cell_type": "code",
   "execution_count": 32,
   "metadata": {},
   "outputs": [],
   "source": [
    "image_p = np.concatenate((zeros_x, image_p), axis=0)\n",
    "image_p = np.concatenate((image_p, zeros_x), axis=0)\n",
    "image_p = np.concatenate((zeros_y, image_p), axis=1)\n",
    "image_p = np.concatenate((image_p, zeros_y), axis=1)"
   ]
  },
  {
   "cell_type": "code",
   "execution_count": 36,
   "metadata": {},
   "outputs": [
    {
     "data": {
      "text/plain": [
       "array([[  0.,   0.,   0.,   0.,   0.,   0.,   0.,   0.,   0.,   0.],\n",
       "       [  0.,   0.,   0.,   0.,   0.,   0.,   0.,   0.,   0.,   0.],\n",
       "       [  0.,   0., 128.,  26., 189., 155.,  22.,  34.,   0.,   0.],\n",
       "       [  0.,   0., 195., 178., 168.,  32., 158., 185.,   0.,   0.],\n",
       "       [  0.,   0., 104., 217., 108., 123., 130., 141.,   0.,   0.],\n",
       "       [  0.,   0.,  87., 236.,  22., 201., 175., 195.,   0.,   0.],\n",
       "       [  0.,   0., 120., 168.,   9., 237., 128., 188.,   0.,   0.],\n",
       "       [  0.,   0.,  58., 253., 213., 246., 187., 227.,   0.,   0.],\n",
       "       [  0.,   0.,   0.,   0.,   0.,   0.,   0.,   0.,   0.,   0.],\n",
       "       [  0.,   0.,   0.,   0.,   0.,   0.,   0.,   0.,   0.,   0.]])"
      ]
     },
     "execution_count": 36,
     "metadata": {},
     "output_type": "execute_result"
    }
   ],
   "source": [
    "image_p[:, :, 0]"
   ]
  }
 ],
 "metadata": {
  "kernelspec": {
   "display_name": "Python 3.10.1 64-bit",
   "language": "python",
   "name": "python3"
  },
  "language_info": {
   "codemirror_mode": {
    "name": "ipython",
    "version": 3
   },
   "file_extension": ".py",
   "mimetype": "text/x-python",
   "name": "python",
   "nbconvert_exporter": "python",
   "pygments_lexer": "ipython3",
   "version": "3.10.1"
  },
  "orig_nbformat": 4,
  "vscode": {
   "interpreter": {
    "hash": "deee277ef8cb4a05cf6441d551c854fa5e547ddedbca2c10e6f5685ea62b6c02"
   }
  }
 },
 "nbformat": 4,
 "nbformat_minor": 2
}

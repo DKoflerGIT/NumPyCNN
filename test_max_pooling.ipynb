{
 "cells": [
  {
   "cell_type": "code",
   "execution_count": 1,
   "metadata": {},
   "outputs": [],
   "source": [
    "from model import layers, activations, networks, utils, optimizers, losses\n",
    "import numpy as np\n",
    "import matplotlib.pyplot as plt"
   ]
  },
  {
   "cell_type": "code",
   "execution_count": 2,
   "metadata": {},
   "outputs": [
    {
     "data": {
      "text/plain": [
       "array([[174, 201, 226,  77, 188, 185,  96,  90,  42,  38],\n",
       "       [200, 140, 156, 175, 188,  48, 103, 218,  30,  71],\n",
       "       [ 97,  85, 225, 142, 216, 217, 220, 232, 221, 242],\n",
       "       [  8, 180,  59, 110, 212,  83, 166, 105,  24, 224],\n",
       "       [152,  39,  84,  58,  48, 230,   1,  98, 239,  66],\n",
       "       [131, 122, 101, 108,  96, 145, 115, 178, 152,  46],\n",
       "       [236, 124, 130, 243, 134, 178,  70, 181,  10, 127],\n",
       "       [ 99,  36, 155, 160, 182, 113, 106, 101,  17,  11],\n",
       "       [ 11,  67, 142, 224,  13, 144,  22, 244, 197,  24],\n",
       "       [146,  61,  12,  51, 101, 214, 158, 168, 153, 168]])"
      ]
     },
     "execution_count": 2,
     "metadata": {},
     "output_type": "execute_result"
    }
   ],
   "source": [
    "conv_output = np.random.randint(0, 255, (10, 10, 3))\n",
    "conv_output[:, :, 0]"
   ]
  },
  {
   "cell_type": "code",
   "execution_count": 3,
   "metadata": {},
   "outputs": [],
   "source": [
    "window = (2, 2)"
   ]
  },
  {
   "cell_type": "code",
   "execution_count": 4,
   "metadata": {},
   "outputs": [
    {
     "name": "stdout",
     "output_type": "stream",
     "text": [
      "[[201. 226. 188. 218.  71.]\n",
      " [180. 225. 217. 232. 242.]\n",
      " [152. 108. 230. 178. 239.]\n",
      " [236. 243. 182. 181. 127.]\n",
      " [146. 224. 214. 244. 197.]]\n"
     ]
    }
   ],
   "source": [
    "for channel in range(conv_output.shape[2]):\n",
    "    image = conv_output[:, :, channel]\n",
    "    width = image.shape[1]\n",
    "    height = image.shape [0]\n",
    "    step = window[0]\n",
    "\n",
    "    output = np.zeros((int(height / step), int(width / step)))\n",
    "\n",
    "    for y in range(int(height / step)):\n",
    "        for x in range(int(width / step)):\n",
    "            arr = image[y * step : y * step + step, x * step : x * step + step]\n",
    "            output[y, x] = np.max(arr)\n",
    "\n",
    "    print(output)\n",
    "    break\n"
   ]
  }
 ],
 "metadata": {
  "kernelspec": {
   "display_name": "Python 3.10.1 64-bit",
   "language": "python",
   "name": "python3"
  },
  "language_info": {
   "codemirror_mode": {
    "name": "ipython",
    "version": 3
   },
   "file_extension": ".py",
   "mimetype": "text/x-python",
   "name": "python",
   "nbconvert_exporter": "python",
   "pygments_lexer": "ipython3",
   "version": "3.10.1"
  },
  "orig_nbformat": 4,
  "vscode": {
   "interpreter": {
    "hash": "deee277ef8cb4a05cf6441d551c854fa5e547ddedbca2c10e6f5685ea62b6c02"
   }
  }
 },
 "nbformat": 4,
 "nbformat_minor": 2
}

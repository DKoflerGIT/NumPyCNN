{
 "cells": [
  {
   "cell_type": "code",
   "execution_count": null,
   "metadata": {},
   "outputs": [],
   "source": [
    "from model import layers, activations, networks, preprocessing, optimizers, losses\n",
    "import numpy as np\n",
    "import pandas as pd\n",
    "import seaborn as sns"
   ]
  },
  {
   "cell_type": "code",
   "execution_count": null,
   "metadata": {},
   "outputs": [],
   "source": [
    "data_orig = pd.read_csv('datasets/diabetes.data',\n",
    "    names=[\n",
    "        'times_pregnant',\n",
    "        'plasma_glucose_concentration',\n",
    "        'blood_pressure',\n",
    "        'triceps_skin_fold_thickness',\n",
    "        'insulin',\n",
    "        'bmi',\n",
    "        'diabetes_pedigree_function',\n",
    "        'age',\n",
    "        'has_diabetes'])\n",
    "data = data_orig.copy()\n",
    "data"
   ]
  },
  {
   "cell_type": "code",
   "execution_count": null,
   "metadata": {},
   "outputs": [],
   "source": [
    "# sns.pairplot(data, hue='has_diabetes')"
   ]
  },
  {
   "cell_type": "code",
   "execution_count": null,
   "metadata": {},
   "outputs": [],
   "source": [
    "train_data, val_data = preprocessing.split_train_val_data(data)\n",
    "\n",
    "train_data_np = train_data.to_numpy()\n",
    "train_data_normalized = preprocessing.normalize(train_data_np)\n",
    "train_input = np.expand_dims(train_data_normalized, axis=2) # input must be of shape (x, y, z)\n",
    "X, Y = preprocessing.split_X_Y(train_input, 8)"
   ]
  },
  {
   "cell_type": "code",
   "execution_count": null,
   "metadata": {},
   "outputs": [],
   "source": [
    "model = networks.FeedForward([\n",
    "    layers.Input((8,)),\n",
    "    layers.Dense(64, activations.ReLu),\n",
    "    layers.Dense(32, activations.ReLu),\n",
    "    layers.Dense(1, activations.Sigmoid),\n",
    "    layers.Output()\n",
    "])"
   ]
  },
  {
   "cell_type": "code",
   "execution_count": null,
   "metadata": {},
   "outputs": [],
   "source": [
    "model.compile(\n",
    "    optimizer=optimizers.stochastic_gradient_descent(eta=0.2),\n",
    "    loss=losses.root_mean_square)"
   ]
  },
  {
   "cell_type": "code",
   "execution_count": null,
   "metadata": {},
   "outputs": [],
   "source": [
    "model.train(X, Y, epochs=500, batch_size=50)"
   ]
  },
  {
   "cell_type": "code",
   "execution_count": null,
   "metadata": {},
   "outputs": [],
   "source": [
    "val_data_np = val_data.to_numpy()\n",
    "val_data_normalized = preprocessing.normalize(val_data_np)\n",
    "val_input = np.expand_dims(val_data_normalized, axis=2)\n",
    "X_v, Y_v = preprocessing.split_X_Y(val_input, 8)\n",
    "\n",
    "model.evaluate(X_v, Y_v)"
   ]
  }
 ],
 "metadata": {
  "kernelspec": {
   "display_name": "Python 3.10.1 64-bit",
   "language": "python",
   "name": "python3"
  },
  "language_info": {
   "codemirror_mode": {
    "name": "ipython",
    "version": 3
   },
   "file_extension": ".py",
   "mimetype": "text/x-python",
   "name": "python",
   "nbconvert_exporter": "python",
   "pygments_lexer": "ipython3",
   "version": "3.10.1"
  },
  "orig_nbformat": 4,
  "vscode": {
   "interpreter": {
    "hash": "deee277ef8cb4a05cf6441d551c854fa5e547ddedbca2c10e6f5685ea62b6c02"
   }
  }
 },
 "nbformat": 4,
 "nbformat_minor": 2
}

{
 "cells": [
  {
   "cell_type": "code",
   "execution_count": null,
   "metadata": {},
   "outputs": [],
   "source": [
    "from model import layers, activations, networks, utils, optimizers, losses, metrics\n",
    "import numpy as np\n",
    "import pandas as pd\n",
    "import seaborn as sns"
   ]
  },
  {
   "cell_type": "code",
   "execution_count": null,
   "metadata": {},
   "outputs": [],
   "source": [
    "data_orig = pd.read_csv('datasets/diabetes.data',\n",
    "    names=[\n",
    "        'times_pregnant',\n",
    "        'plasma_glucose_concentration',\n",
    "        'blood_pressure',\n",
    "        'triceps_skin_fold_thickness',\n",
    "        'insulin',\n",
    "        'bmi',\n",
    "        'diabetes_pedigree_function',\n",
    "        'age',\n",
    "        'has_diabetes'])\n",
    "data = data_orig.copy()\n",
    "data"
   ]
  },
  {
   "cell_type": "code",
   "execution_count": null,
   "metadata": {},
   "outputs": [],
   "source": [
    "array = data.to_numpy()\n",
    "train_array, test_array = utils.split_train_test_data(array, ratio=0.3)\n",
    "\n",
    "train_array_normalized = utils.normalize(train_array)\n",
    "test_array_normalized = utils.normalize(test_array)\n",
    "\n",
    "x_train, y_train = utils.split_X_Y(train_array_normalized, 8)\n",
    "x_test, y_test = utils.split_X_Y(test_array_normalized, 8)\n",
    "\n",
    "x_train = utils.expand_dims(x_train, 4)\n",
    "y_train = utils.expand_dims(y_train, 2)\n",
    "x_test = utils.expand_dims(x_test, 4)\n",
    "y_test = utils.expand_dims(y_test, 2)\n",
    "\n",
    "print (f'x_train shape={x_train.shape}')\n",
    "print (f'y_train shape={y_train.shape}')\n",
    "print (f'x_test shape={x_test.shape}')\n",
    "print (f'y_test shape={y_test.shape}')"
   ]
  },
  {
   "cell_type": "code",
   "execution_count": null,
   "metadata": {},
   "outputs": [],
   "source": [
    "model = networks.FeedForward([\n",
    "    layers.Input(input_shape=(8,)),\n",
    "    layers.Dense(nr_neurons=8, activation=activations.ReLu),\n",
    "    layers.Dense(nr_neurons=1, activation=activations.Sigmoid),\n",
    "    layers.Output()\n",
    "])"
   ]
  },
  {
   "cell_type": "code",
   "execution_count": null,
   "metadata": {},
   "outputs": [],
   "source": [
    "model.compile(\n",
    "    optimizer=optimizers.stochastic_gradient_descent(learning_rate=0.01, momentum=0.7, nesterov=True),\n",
    "    loss=losses.root_mean_square,\n",
    "    metric=metrics.Accuracy)"
   ]
  },
  {
   "cell_type": "code",
   "execution_count": null,
   "metadata": {},
   "outputs": [],
   "source": [
    "model.train(x_train, y_train, epochs=1000, batch_size=100, log=False)"
   ]
  },
  {
   "cell_type": "code",
   "execution_count": null,
   "metadata": {},
   "outputs": [],
   "source": [
    "model.evaluate(x_test, y_test)"
   ]
  }
 ],
 "metadata": {
  "kernelspec": {
   "display_name": "Python 3.10.1 64-bit",
   "language": "python",
   "name": "python3"
  },
  "language_info": {
   "codemirror_mode": {
    "name": "ipython",
    "version": 3
   },
   "file_extension": ".py",
   "mimetype": "text/x-python",
   "name": "python",
   "nbconvert_exporter": "python",
   "pygments_lexer": "ipython3",
   "version": "3.10.4"
  },
  "orig_nbformat": 4,
  "vscode": {
   "interpreter": {
    "hash": "deee277ef8cb4a05cf6441d551c854fa5e547ddedbca2c10e6f5685ea62b6c02"
   }
  }
 },
 "nbformat": 4,
 "nbformat_minor": 2
}

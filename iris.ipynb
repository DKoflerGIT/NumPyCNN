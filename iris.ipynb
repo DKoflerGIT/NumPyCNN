{
 "cells": [
  {
   "cell_type": "code",
   "execution_count": null,
   "metadata": {},
   "outputs": [],
   "source": [
    "from model import layers, activations, networks, utils, optimizers, losses, metrics\n",
    "import numpy as np\n",
    "import pandas as pd\n",
    "import seaborn as sns"
   ]
  },
  {
   "cell_type": "code",
   "execution_count": null,
   "metadata": {},
   "outputs": [],
   "source": [
    "data_orig = pd.read_csv('datasets/iris.data', names=['sepal length', 'sepal width', 'petal length', 'petal width', 'species'])\n",
    "data = data_orig.copy()\n",
    "data"
   ]
  },
  {
   "cell_type": "code",
   "execution_count": null,
   "metadata": {},
   "outputs": [],
   "source": [
    "# sns.pairplot(data, hue='species')"
   ]
  },
  {
   "cell_type": "code",
   "execution_count": null,
   "metadata": {},
   "outputs": [],
   "source": [
    "data = utils.categorical_to_numeric(data)\n",
    "train_data, val_data = utils.df_split_train_val_data(data)\n",
    "\n",
    "train_data_np = train_data.to_numpy()\n",
    "train_data_normalized = utils.normalize(train_data_np)\n",
    "x_train, y_train = utils.split_X_Y(train_data_normalized, 4)\n",
    "x_train = np.expand_dims(x_train, -1)\n",
    "x_train = np.expand_dims(x_train, -1)\n",
    "\n",
    "print (f'x shape={x_train.shape}')\n",
    "print (f'y shape={y_train.shape}')"
   ]
  },
  {
   "cell_type": "code",
   "execution_count": null,
   "metadata": {},
   "outputs": [],
   "source": [
    "model = networks.FeedForward([\n",
    "    layers.Input(input_shape=(4,)),\n",
    "    layers.Dense(nr_neurons=8, activation=activations.ReLu),\n",
    "    layers.Dense(nr_neurons=8, activation=activations.ReLu),\n",
    "    layers.Dense(nr_neurons=8, activation=activations.ReLu),\n",
    "    layers.Dense(nr_neurons=3, activation=activations.Softmax),\n",
    "    layers.Output()\n",
    "])"
   ]
  },
  {
   "cell_type": "code",
   "execution_count": null,
   "metadata": {},
   "outputs": [],
   "source": [
    "model.compile(\n",
    "    optimizer=optimizers.stochastic_gradient_descent(learning_rate=0.01),\n",
    "    loss=losses.categorical_crossentropy,\n",
    "    metric=metrics.Accuracy)"
   ]
  },
  {
   "cell_type": "code",
   "execution_count": null,
   "metadata": {},
   "outputs": [],
   "source": [
    "model.train(x_train, y_train, epochs=500, batch_size=20)"
   ]
  },
  {
   "cell_type": "code",
   "execution_count": null,
   "metadata": {},
   "outputs": [],
   "source": [
    "val_data_np = val_data.to_numpy()\n",
    "val_data_normalized = utils.normalize(val_data_np)\n",
    "x_test, y_test = utils.split_X_Y(val_data_normalized, 4)\n",
    "x_test = np.expand_dims(x_test, -1)\n",
    "x_test = np.expand_dims(x_test, -1)\n",
    "\n",
    "model.evaluate(x_test, y_test)"
   ]
  }
 ],
 "metadata": {
  "kernelspec": {
   "display_name": "Python 3.10.1 64-bit",
   "language": "python",
   "name": "python3"
  },
  "language_info": {
   "codemirror_mode": {
    "name": "ipython",
    "version": 3
   },
   "file_extension": ".py",
   "mimetype": "text/x-python",
   "name": "python",
   "nbconvert_exporter": "python",
   "pygments_lexer": "ipython3",
   "version": "3.10.1"
  },
  "orig_nbformat": 4,
  "vscode": {
   "interpreter": {
    "hash": "deee277ef8cb4a05cf6441d551c854fa5e547ddedbca2c10e6f5685ea62b6c02"
   }
  }
 },
 "nbformat": 4,
 "nbformat_minor": 2
}

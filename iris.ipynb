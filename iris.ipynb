{
 "cells": [
  {
   "cell_type": "code",
   "execution_count": null,
   "metadata": {},
   "outputs": [],
   "source": [
    "from model import layers, activations, networks, preprocessing, optimizers, losses\n",
    "import numpy as np\n",
    "import pandas as pd\n",
    "import seaborn as sns"
   ]
  },
  {
   "cell_type": "code",
   "execution_count": null,
   "metadata": {},
   "outputs": [],
   "source": [
    "data_orig = pd.read_csv('datasets/iris.data', names=['sepal length', 'sepal width', 'petal length', 'petal width', 'species'])\n",
    "data = data_orig.copy()\n",
    "data"
   ]
  },
  {
   "cell_type": "code",
   "execution_count": null,
   "metadata": {},
   "outputs": [],
   "source": [
    "# sns.pairplot(data, hue='species')"
   ]
  },
  {
   "cell_type": "code",
   "execution_count": null,
   "metadata": {},
   "outputs": [],
   "source": [
    "data_numerical = preprocessing.categorical_to_numeric(data)\n",
    "train_data, val_data = preprocessing.split_train_val_data(data_numerical)\n",
    "\n",
    "train_data_np = train_data.to_numpy()\n",
    "train_data_normalized = preprocessing.normalize(train_data_np)\n",
    "train_input = np.expand_dims(train_data_normalized, axis=2) # input must be of shape (x, y, z)\n",
    "X, Y = preprocessing.split_X_Y(train_input, 4)"
   ]
  },
  {
   "cell_type": "code",
   "execution_count": null,
   "metadata": {},
   "outputs": [],
   "source": [
    "model = networks.FeedForward([\n",
    "    layers.Input((4,)),\n",
    "    layers.Dense(64, activations.ReLu),\n",
    "    layers.Dense(32, activations.ReLu),\n",
    "    layers.Dense(16, activations.ReLu),\n",
    "    layers.Dense(3, activations.Softmax),\n",
    "    layers.Output()\n",
    "])"
   ]
  },
  {
   "cell_type": "code",
   "execution_count": null,
   "metadata": {},
   "outputs": [],
   "source": [
    "model.compile(\n",
    "    optimizer=optimizers.stochastic_gradient_descent(0.01),\n",
    "    loss=losses.categorical_crossentropy)"
   ]
  },
  {
   "cell_type": "code",
   "execution_count": null,
   "metadata": {},
   "outputs": [],
   "source": [
    "model.train(X, Y, epochs=500, batch_size=20)"
   ]
  },
  {
   "cell_type": "code",
   "execution_count": null,
   "metadata": {},
   "outputs": [],
   "source": [
    "val_data_np = val_data.to_numpy()\n",
    "val_data_normalized = preprocessing.normalize(val_data_np)\n",
    "val_input = np.expand_dims(val_data_normalized, axis=2)\n",
    "X_v, Y_v = preprocessing.split_X_Y(val_input, 4)\n",
    "\n",
    "model.evaluate(X_v, Y_v)"
   ]
  }
 ],
 "metadata": {
  "kernelspec": {
   "display_name": "Python 3.10.1 64-bit",
   "language": "python",
   "name": "python3"
  },
  "language_info": {
   "codemirror_mode": {
    "name": "ipython",
    "version": 3
   },
   "file_extension": ".py",
   "mimetype": "text/x-python",
   "name": "python",
   "nbconvert_exporter": "python",
   "pygments_lexer": "ipython3",
   "version": "3.10.1"
  },
  "orig_nbformat": 4,
  "vscode": {
   "interpreter": {
    "hash": "deee277ef8cb4a05cf6441d551c854fa5e547ddedbca2c10e6f5685ea62b6c02"
   }
  }
 },
 "nbformat": 4,
 "nbformat_minor": 2
}

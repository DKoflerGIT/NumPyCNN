{
 "cells": [
  {
   "cell_type": "code",
   "execution_count": 1,
   "metadata": {},
   "outputs": [],
   "source": [
    "import numpy as np"
   ]
  },
  {
   "cell_type": "code",
   "execution_count": 2,
   "metadata": {},
   "outputs": [
    {
     "data": {
      "text/plain": [
       "array([[0.22590502, 0.54084369, 0.37140756, 0.69574842, 0.34820439],\n",
       "       [0.63696134, 0.45475365, 0.35842012, 0.93215389, 0.52052552],\n",
       "       [0.11499182, 0.91495762, 0.90061538, 0.29594569, 0.29514423],\n",
       "       [0.44963603, 0.87027279, 0.34960209, 0.35393796, 0.17142704],\n",
       "       [0.77520489, 0.08508882, 0.09296581, 0.89842935, 0.14488185]])"
      ]
     },
     "execution_count": 2,
     "metadata": {},
     "output_type": "execute_result"
    }
   ],
   "source": [
    "i = np.random.rand(5, 5)\n",
    "i "
   ]
  },
  {
   "cell_type": "code",
   "execution_count": 5,
   "metadata": {},
   "outputs": [
    {
     "data": {
      "text/plain": [
       "array([[0.        , 0.        , 0.74281513, 0.        , 0.        ],\n",
       "       [0.        , 0.9095073 , 0.        , 1.86430777, 1.04105105],\n",
       "       [0.        , 0.        , 0.        , 0.        , 0.59028846],\n",
       "       [0.89927205, 0.        , 0.69920417, 0.70787593, 0.34285408],\n",
       "       [1.55040978, 0.17017764, 0.18593161, 0.        , 0.        ]])"
      ]
     },
     "execution_count": 5,
     "metadata": {},
     "output_type": "execute_result"
    }
   ],
   "source": [
    "drop_rate = 0.5\n",
    "map = np.random.choice([0, 1], i.shape, p=[drop_rate, 1 - drop_rate])\n",
    "o = i * map * 1 / (1 - drop_rate)\n",
    "o"
   ]
  }
 ],
 "metadata": {
  "kernelspec": {
   "display_name": "Python 3.10.1 64-bit",
   "language": "python",
   "name": "python3"
  },
  "language_info": {
   "codemirror_mode": {
    "name": "ipython",
    "version": 3
   },
   "file_extension": ".py",
   "mimetype": "text/x-python",
   "name": "python",
   "nbconvert_exporter": "python",
   "pygments_lexer": "ipython3",
   "version": "3.10.1"
  },
  "orig_nbformat": 4,
  "vscode": {
   "interpreter": {
    "hash": "deee277ef8cb4a05cf6441d551c854fa5e547ddedbca2c10e6f5685ea62b6c02"
   }
  }
 },
 "nbformat": 4,
 "nbformat_minor": 2
}

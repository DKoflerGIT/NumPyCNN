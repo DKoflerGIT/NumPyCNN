{
 "cells": [
  {
   "cell_type": "code",
   "execution_count": null,
   "metadata": {},
   "outputs": [],
   "source": [
    "import numpy as np\n",
    "from tensorflow import keras\n",
    "import matplotlib.pyplot as plt\n",
    "import random"
   ]
  },
  {
   "cell_type": "code",
   "execution_count": null,
   "metadata": {},
   "outputs": [],
   "source": [
    "(x_train , y_train), (x_test , y_test) = keras.datasets.mnist.load_data()\n",
    "y_train = keras.utils.to_categorical(y_train, 10)\n",
    "y_test = keras.utils.to_categorical(y_test, 10)"
   ]
  },
  {
   "cell_type": "code",
   "execution_count": null,
   "metadata": {},
   "outputs": [],
   "source": [
    "image = x_train[7]\n",
    "print(image.shape)\n",
    "plt.imshow(image, cmap='gray')"
   ]
  },
  {
   "cell_type": "code",
   "execution_count": null,
   "metadata": {},
   "outputs": [],
   "source": [
    "image = np.expand_dims(image, -1)\n",
    "image.shape"
   ]
  },
  {
   "cell_type": "code",
   "execution_count": null,
   "metadata": {},
   "outputs": [],
   "source": [
    "kernel = np.array([\n",
    "    [[1], [0], [-1]],\n",
    "    [[2], [0], [-2]],\n",
    "    [[1], [0], [-1]]\n",
    "])\n",
    "\n",
    "kernel.shape"
   ]
  },
  {
   "cell_type": "code",
   "execution_count": null,
   "metadata": {},
   "outputs": [],
   "source": [
    "image0 = image[:, :, 0]\n",
    "# image0 = np.random.randint(0, 255, (10, 10))"
   ]
  },
  {
   "cell_type": "code",
   "execution_count": null,
   "metadata": {},
   "outputs": [],
   "source": [
    "width = image0.shape[1]\n",
    "height = image0.shape [0]"
   ]
  },
  {
   "cell_type": "code",
   "execution_count": null,
   "metadata": {},
   "outputs": [],
   "source": [
    "insert_h = np.zeros((width,))\n",
    "insert_v = np.zeros((width + 2,))\n",
    "image_padding = np.insert(image0, 0, insert_h, axis=0)\n",
    "image_padding = np.insert(image_padding, len(image_padding), insert_h, axis=0)\n",
    "image_padding = np.insert(image_padding, 0, insert_v, axis=1)\n",
    "image_padding = np.insert(image_padding, len(image_padding[0]), insert_v, axis=1)\n",
    "image_padding"
   ]
  },
  {
   "cell_type": "code",
   "execution_count": null,
   "metadata": {},
   "outputs": [],
   "source": [
    "kernel0 = kernel[:, :, 0]\n",
    "kernel0"
   ]
  },
  {
   "cell_type": "code",
   "execution_count": null,
   "metadata": {},
   "outputs": [],
   "source": [
    "stride = 2\n",
    "output = np.zeros((int(height / stride), int(width / stride)))\n",
    "\n",
    "for y in range(int(height / stride)):\n",
    "    for x in range(int(width / stride)):\n",
    "        arr = image_padding[y * stride : y * stride + kernel0.shape[0], x * stride : x * stride + kernel0.shape[0]]\n",
    "        # print(arr)\n",
    "        output[y, x] = np.sum(arr * kernel0)\n",
    "\n",
    "plt.imshow(output, cmap='gray')"
   ]
  }
 ],
 "metadata": {
  "kernelspec": {
   "display_name": "Python 3.10.1 64-bit",
   "language": "python",
   "name": "python3"
  },
  "language_info": {
   "codemirror_mode": {
    "name": "ipython",
    "version": 3
   },
   "file_extension": ".py",
   "mimetype": "text/x-python",
   "name": "python",
   "nbconvert_exporter": "python",
   "pygments_lexer": "ipython3",
   "version": "3.10.4"
  },
  "orig_nbformat": 4,
  "vscode": {
   "interpreter": {
    "hash": "deee277ef8cb4a05cf6441d551c854fa5e547ddedbca2c10e6f5685ea62b6c02"
   }
  }
 },
 "nbformat": 4,
 "nbformat_minor": 2
}

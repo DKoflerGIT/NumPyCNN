{
 "cells": [
  {
   "cell_type": "code",
   "execution_count": null,
   "metadata": {},
   "outputs": [],
   "source": [
    "import numpy as np\n",
    "import matplotlib.pyplot as plt\n",
    "from model import paddings\n",
    "import os\n",
    "from PIL import Image"
   ]
  },
  {
   "cell_type": "code",
   "execution_count": null,
   "metadata": {},
   "outputs": [],
   "source": [
    "filepath = 'datasets\\\\catsanddogs\\\\Petimages\\\\Cat'\n",
    "image_rgb = Image.open(filepath + '\\\\' + os.listdir(filepath)[7])\n",
    "image_resized = image_rgb.resize((128, 128))\n",
    "image = np.asarray(image_resized)\n",
    "\n",
    "plt.imshow(image)"
   ]
  },
  {
   "cell_type": "code",
   "execution_count": null,
   "metadata": {},
   "outputs": [],
   "source": [
    "image.shape"
   ]
  },
  {
   "cell_type": "code",
   "execution_count": null,
   "metadata": {},
   "outputs": [],
   "source": [
    "kernel_shape = (3, 3, 3)\n",
    "kernel = np.array([\n",
    "    [[1], [0], [-1]],\n",
    "    [[2], [0], [-2]],\n",
    "    [[1], [0], [-1]]]) * np.ones((1, 1, kernel_shape[2]))\n",
    "\n",
    "kernel_overhang = 1"
   ]
  },
  {
   "cell_type": "code",
   "execution_count": null,
   "metadata": {},
   "outputs": [],
   "source": [
    "image_p = paddings.Zero(image, kernel_overhang)\n",
    "image_p.shape"
   ]
  },
  {
   "cell_type": "code",
   "execution_count": null,
   "metadata": {},
   "outputs": [],
   "source": [
    "stride = 1\n",
    "kernel_overhang = int((kernel.shape[0] - 1) / 2)\n",
    "featuremap_shape = (image.shape[0], image.shape[1], 1)\n",
    "feature_map = np.zeros(featuremap_shape)\n",
    "\n",
    "# convolution\n",
    "y0 = yc = 0\n",
    "for y in range(kernel_shape[0], image.shape[0] + 1, stride):\n",
    "    x0 = xc = 0\n",
    "    for x in range(kernel_shape[1], image.shape[1] + 1, stride):\n",
    "        arr = image_p[y0:y, x0:x, :]\n",
    "        feature_map[yc, xc, 0] = np.sum(arr * np.fliplr(kernel))\n",
    "        x0 += stride\n",
    "        xc += 1\n",
    "    y0 += stride\n",
    "    yc += 1\n",
    "\n",
    "plt.imshow(feature_map, cmap='gray')"
   ]
  }
 ],
 "metadata": {
  "kernelspec": {
   "display_name": "Python 3.10.1 64-bit",
   "language": "python",
   "name": "python3"
  },
  "language_info": {
   "codemirror_mode": {
    "name": "ipython",
    "version": 3
   },
   "file_extension": ".py",
   "mimetype": "text/x-python",
   "name": "python",
   "nbconvert_exporter": "python",
   "pygments_lexer": "ipython3",
   "version": "3.10.1"
  },
  "orig_nbformat": 4,
  "vscode": {
   "interpreter": {
    "hash": "deee277ef8cb4a05cf6441d551c854fa5e547ddedbca2c10e6f5685ea62b6c02"
   }
  }
 },
 "nbformat": 4,
 "nbformat_minor": 2
}

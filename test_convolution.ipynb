{
 "cells": [
  {
   "cell_type": "code",
   "execution_count": null,
   "metadata": {},
   "outputs": [],
   "source": [
    "import numpy as np\n",
    "import matplotlib.pyplot as plt\n",
    "from model import paddings\n",
    "import os\n",
    "from PIL import Image"
   ]
  },
  {
   "cell_type": "code",
   "execution_count": null,
   "metadata": {},
   "outputs": [],
   "source": [
    "filepath = 'datasets\\\\catsanddogs\\\\Petimages\\\\Cat'\n",
    "image_rgb = Image.open(filepath + '\\\\' + os.listdir(filepath)[2])\n",
    "image_resized = image_rgb.resize((128, 128))\n",
    "image = np.asarray(image_resized)\n",
    "\n",
    "plt.imshow(image)"
   ]
  },
  {
   "cell_type": "code",
   "execution_count": null,
   "metadata": {},
   "outputs": [],
   "source": [
    "image.shape"
   ]
  },
  {
   "cell_type": "code",
   "execution_count": null,
   "metadata": {},
   "outputs": [],
   "source": [
    "kernel_shape = (3, 3, 3)\n",
    "kernel = np.array([\n",
    "    [[1], [0], [-1]],\n",
    "    [[2], [0], [-2]],\n",
    "    [[1], [0], [-1]]]) * np.ones((1, 1, kernel_shape[2]))\n",
    "\n",
    "kernel_overhang = 1\n",
    "\n",
    "kernel.shape"
   ]
  },
  {
   "cell_type": "code",
   "execution_count": null,
   "metadata": {},
   "outputs": [],
   "source": [
    "image_p = paddings.Zero(image, kernel_overhang)"
   ]
  },
  {
   "cell_type": "code",
   "execution_count": null,
   "metadata": {},
   "outputs": [],
   "source": [
    "stride = 1\n",
    "kernel_overhang = int((kernel.shape[0] - 1) / 2)\n",
    "featuremap_shape = (image.shape[0], image.shape[1], 1)\n",
    "feature_map = np.zeros(featuremap_shape)\n",
    "\n",
    "# convolution\n",
    "for y in range(int((image_p.shape[0] - 2 * kernel_overhang) / stride)):\n",
    "    for x in range(int((image_p.shape[1] - 2 * kernel_overhang) / stride)):\n",
    "        arr = image_p[y * stride :  y * stride + kernel.shape[0], x * stride : x * stride + kernel.shape[1], :]\n",
    "        feature_map[y, x, 0] = np.sum(arr * kernel)\n",
    "\n",
    "plt.imshow(feature_map, cmap='gray')"
   ]
  }
 ],
 "metadata": {
  "kernelspec": {
   "display_name": "Python 3.10.1 64-bit",
   "language": "python",
   "name": "python3"
  },
  "language_info": {
   "codemirror_mode": {
    "name": "ipython",
    "version": 3
   },
   "file_extension": ".py",
   "mimetype": "text/x-python",
   "name": "python",
   "nbconvert_exporter": "python",
   "pygments_lexer": "ipython3",
   "version": "3.10.1"
  },
  "orig_nbformat": 4,
  "vscode": {
   "interpreter": {
    "hash": "deee277ef8cb4a05cf6441d551c854fa5e547ddedbca2c10e6f5685ea62b6c02"
   }
  }
 },
 "nbformat": 4,
 "nbformat_minor": 2
}

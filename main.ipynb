{
 "cells": [
  {
   "cell_type": "code",
   "execution_count": 1,
   "metadata": {},
   "outputs": [],
   "source": [
    "from model import layers, activations, networks, utils\n",
    "import numpy as np"
   ]
  },
  {
   "cell_type": "code",
   "execution_count": 16,
   "metadata": {},
   "outputs": [],
   "source": [
    "model = networks.FeedForward([\n",
    "    layers.Flatten(input_shape=(3, 3)),\n",
    "    layers.Dense(16, activations.Identity),\n",
    "    layers.Dense(8, activations.Identity)\n",
    "])"
   ]
  },
  {
   "cell_type": "code",
   "execution_count": 17,
   "metadata": {},
   "outputs": [
    {
     "name": "stdout",
     "output_type": "stream",
     "text": [
      "[[-0.96212546]\n",
      " [ 0.82234786]\n",
      " [-1.90113013]\n",
      " [ 2.52122181]\n",
      " [ 2.7048328 ]\n",
      " [ 3.73132638]\n",
      " [ 6.30268727]\n",
      " [-0.95902825]]\n"
     ]
    }
   ],
   "source": [
    "input = np.array([[1, 1, 1], [2, 2, 2], [3, 3, 3]])\n",
    "p = model.predict(input)\n",
    "if p is not None:\n",
    "    p = p.reshape(8)\n",
    "    x = np.linspace(1, 8, 8)\n",
    "\n",
    "    print(p.reshape(8, 1))"
   ]
  }
 ],
 "metadata": {
  "kernelspec": {
   "display_name": "Python 3.10.1 64-bit",
   "language": "python",
   "name": "python3"
  },
  "language_info": {
   "codemirror_mode": {
    "name": "ipython",
    "version": 3
   },
   "file_extension": ".py",
   "mimetype": "text/x-python",
   "name": "python",
   "nbconvert_exporter": "python",
   "pygments_lexer": "ipython3",
   "version": "3.10.4"
  },
  "orig_nbformat": 4,
  "vscode": {
   "interpreter": {
    "hash": "deee277ef8cb4a05cf6441d551c854fa5e547ddedbca2c10e6f5685ea62b6c02"
   }
  }
 },
 "nbformat": 4,
 "nbformat_minor": 2
}

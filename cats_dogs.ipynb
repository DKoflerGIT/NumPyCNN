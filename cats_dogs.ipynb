{
 "cells": [
  {
   "cell_type": "code",
   "execution_count": null,
   "metadata": {},
   "outputs": [],
   "source": [
    "from model import layers, activations, networks, utils, optimizers, losses, paddings, metrics\n",
    "import numpy as np\n",
    "import pandas as pd\n",
    "import matplotlib.pyplot as plt\n",
    "import matplotlib\n",
    "from PIL import Image\n",
    "import random\n",
    "import os\n",
    "from numpy import asarray"
   ]
  },
  {
   "cell_type": "code",
   "execution_count": null,
   "metadata": {},
   "outputs": [],
   "source": [
    "def loadImages(n):\n",
    "    filepath = 'datasets\\\\catsanddogs\\\\Petimages'\n",
    "    list_x = []\n",
    "    list_y = []\n",
    "\n",
    "    c = 0\n",
    "    for category in ['Cat', 'Dog']:\n",
    "        path = filepath + '\\\\' + category\n",
    "        for i, image in enumerate(os.listdir(path)):\n",
    "            if i >= n / 2: break\n",
    "            if image[-3:] != 'jpg': continue\n",
    "            image_rgb = Image.open(path + '\\\\' + image)\n",
    "            image_resized = image_rgb.resize((64, 64))\n",
    "            image_arr = np.asarray(image_resized)\n",
    "            if len(image_arr.shape) != 3: continue\n",
    "            list_x.append(image_arr / 255)\n",
    "            list_y.append(0 if category == 'Cat' else 1)\n",
    "            c = c + 1\n",
    "            print(f'{c}/{n} images loaded', end='\\r')\n",
    "    return np.array(list_x), np.array(list_y)\n",
    "\n",
    "X, Y = loadImages(2000)"
   ]
  },
  {
   "cell_type": "code",
   "execution_count": null,
   "metadata": {},
   "outputs": [],
   "source": [
    "Y = np.expand_dims(Y, -1)\n",
    "print(X.shape)\n",
    "print(Y.shape)"
   ]
  },
  {
   "cell_type": "code",
   "execution_count": null,
   "metadata": {},
   "outputs": [],
   "source": [
    "X, Y = utils.shuffle(X, Y)\n",
    "l = int(len(X) * 0.7)\n",
    "[x_train, x_test] = np.split(X, [l])\n",
    "[y_train, y_test] = np.split(Y, [l])\n",
    "\n",
    "print(x_train.shape)\n",
    "print(y_train.shape)\n",
    "print(x_test.shape)\n",
    "print(y_test.shape)"
   ]
  },
  {
   "cell_type": "code",
   "execution_count": null,
   "metadata": {},
   "outputs": [],
   "source": [
    "model = networks.FeedForward([\n",
    "    layers.Input(input_shape=(64, 64, 3)),\n",
    "    layers.Convolution(nr_kernels=1, kernel_size=(3, 3), activation=activations.ReLu, padding=paddings.Zero, stride=1),\n",
    "    layers.MaxPooling(pooling_window=(2, 2)),\n",
    "    layers.Flatten(),\n",
    "    layers.Dense(nr_neurons=16, activation=activations.ReLu),\n",
    "    layers.Dense(nr_neurons=1, activation=activations.Sigmoid),\n",
    "    layers.Output()\n",
    "    ])"
   ]
  },
  {
   "cell_type": "code",
   "execution_count": null,
   "metadata": {},
   "outputs": [],
   "source": [
    "model.compile(\n",
    "    optimizer=optimizers.stochastic_gradient_descent(learning_rate=0.001, momentum=0.9, nesterov=True),\n",
    "    loss=losses.root_mean_square,\n",
    "    metric=metrics.Accuracy\n",
    "    )"
   ]
  },
  {
   "cell_type": "code",
   "execution_count": null,
   "metadata": {},
   "outputs": [],
   "source": [
    "for l in model.layers:\n",
    "    print (l.output.shape)"
   ]
  },
  {
   "cell_type": "code",
   "execution_count": null,
   "metadata": {},
   "outputs": [],
   "source": [
    "model.train(x_train, y_train, epochs=20, batch_size=200)"
   ]
  },
  {
   "cell_type": "code",
   "execution_count": null,
   "metadata": {},
   "outputs": [],
   "source": [
    "model.evaluate(x_test, y_test)"
   ]
  },
  {
   "cell_type": "code",
   "execution_count": null,
   "metadata": {},
   "outputs": [],
   "source": [
    "i = random.randint(0, len(X) - 1)\n",
    "image = X[i]\n",
    "plt.imshow(image)"
   ]
  },
  {
   "cell_type": "markdown",
   "metadata": {},
   "source": [
    "Cat=0, Dog=1"
   ]
  },
  {
   "cell_type": "code",
   "execution_count": null,
   "metadata": {},
   "outputs": [],
   "source": [
    "p = model.predict(image)\n",
    "p"
   ]
  },
  {
   "cell_type": "code",
   "execution_count": null,
   "metadata": {},
   "outputs": [],
   "source": [
    "plt.imshow(model.layers[1].output[:, :, 0], cmap='gray')"
   ]
  },
  {
   "cell_type": "code",
   "execution_count": null,
   "metadata": {},
   "outputs": [],
   "source": [
    "plt.imshow(model.layers[2].output[:, :, 0], cmap='gray')"
   ]
  }
 ],
 "metadata": {
  "kernelspec": {
   "display_name": "Python 3.10.1 64-bit",
   "language": "python",
   "name": "python3"
  },
  "language_info": {
   "codemirror_mode": {
    "name": "ipython",
    "version": 3
   },
   "file_extension": ".py",
   "mimetype": "text/x-python",
   "name": "python",
   "nbconvert_exporter": "python",
   "pygments_lexer": "ipython3",
   "version": "3.10.1"
  },
  "orig_nbformat": 4,
  "vscode": {
   "interpreter": {
    "hash": "deee277ef8cb4a05cf6441d551c854fa5e547ddedbca2c10e6f5685ea62b6c02"
   }
  }
 },
 "nbformat": 4,
 "nbformat_minor": 2
}

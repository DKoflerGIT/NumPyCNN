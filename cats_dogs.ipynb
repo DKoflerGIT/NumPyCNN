{
 "cells": [
  {
   "cell_type": "code",
   "execution_count": null,
   "metadata": {},
   "outputs": [],
   "source": [
    "from model import layers, activations, networks, utils, optimizers, losses, paddings\n",
    "import numpy as np\n",
    "import pandas as pd\n",
    "import matplotlib.pyplot as plt\n",
    "import matplotlib\n",
    "from PIL import Image\n",
    "import random\n",
    "import os"
   ]
  },
  {
   "cell_type": "code",
   "execution_count": null,
   "metadata": {},
   "outputs": [],
   "source": [
    "filepath = 'datasets\\\\catsanddogs\\\\Petimages'\n",
    "\n",
    "from numpy import asarray\n",
    "\n",
    "rgb_weights = [0.2989, 0.5870, 0.1140]\n",
    "\n",
    "list_x = []\n",
    "list_y = []\n",
    "\n",
    "image_count = len(os.listdir(filepath + '\\\\Cat')) + len(os.listdir(filepath + '\\\\Dog'))\n",
    "\n",
    "c = 1\n",
    "\n",
    "for category in ['Cat', 'Dog']:\n",
    "    path = filepath + '\\\\' + category\n",
    "    for i, image in enumerate(os.listdir(path)):\n",
    "        if i > 1000: break\n",
    "        if image[-3:] != 'jpg': continue\n",
    "        image_rgb = Image.open(path + '\\\\' + image)\n",
    "        image_resized = image_rgb.resize((64, 64))\n",
    "        image_arr = np.asarray(image_resized)\n",
    "        if len(image_arr.shape) != 3: continue\n",
    "        list_x.append(image_arr / 255)\n",
    "        list_y.append(float(image[0]))\n",
    "        c = c + 1\n",
    "        print(f'{c}/{image_count} images loaded', end='\\r')"
   ]
  },
  {
   "cell_type": "code",
   "execution_count": null,
   "metadata": {},
   "outputs": [],
   "source": [
    "X = np.array(list_x)\n",
    "Y = np.expand_dims(np.array(list_y), -1)\n",
    "X, Y = utils.shuffle(X, Y)"
   ]
  },
  {
   "cell_type": "code",
   "execution_count": null,
   "metadata": {},
   "outputs": [],
   "source": [
    "l = int(len(X) * 0.7)\n",
    "[x_train, x_test] = np.split(X, [l])\n",
    "[y_train, y_test] = np.split(Y, [l])"
   ]
  },
  {
   "cell_type": "code",
   "execution_count": null,
   "metadata": {},
   "outputs": [],
   "source": [
    "plt.imshow(X[10], cmap='gray')"
   ]
  },
  {
   "cell_type": "code",
   "execution_count": null,
   "metadata": {},
   "outputs": [],
   "source": [
    "model = networks.FeedForward([\n",
    "    layers.Input((64, 64, 3)),\n",
    "    layers.Convolutional(1, (3, 3), activation=activations.Identity, padding=paddings.Same),\n",
    "    layers.MaxPooling((3, 3)),\n",
    "    layers.Convolutional(1, (3, 3), activation=activations.Identity, padding=paddings.Same),\n",
    "    layers.MaxPooling((3, 3)),\n",
    "    layers.Flatten(),\n",
    "    layers.Dense(1, activation=activations.Sigmoid),\n",
    "    layers.Output()\n",
    "])"
   ]
  },
  {
   "cell_type": "code",
   "execution_count": null,
   "metadata": {},
   "outputs": [],
   "source": [
    "model.compile(\n",
    "    optimizer=optimizers.stochastic_gradient_descent(eta=0.01),\n",
    "    loss=losses.root_mean_square)"
   ]
  },
  {
   "cell_type": "code",
   "execution_count": null,
   "metadata": {},
   "outputs": [],
   "source": [
    "for l in model.layers:\n",
    "    print (l.output.shape)"
   ]
  },
  {
   "cell_type": "code",
   "execution_count": null,
   "metadata": {},
   "outputs": [],
   "source": [
    "model.train(x_train, y_train, epochs=10, batch_size=50)"
   ]
  },
  {
   "cell_type": "code",
   "execution_count": null,
   "metadata": {},
   "outputs": [],
   "source": [
    "model.evaluate(x_test, y_test)"
   ]
  },
  {
   "cell_type": "code",
   "execution_count": null,
   "metadata": {},
   "outputs": [],
   "source": [
    "i = random.randint(0, len(X) - 1)\n",
    "image = X[i]\n",
    "plt.imshow(image)"
   ]
  },
  {
   "cell_type": "code",
   "execution_count": null,
   "metadata": {},
   "outputs": [],
   "source": [
    "p = model.predict(image)\n",
    "p"
   ]
  },
  {
   "cell_type": "code",
   "execution_count": null,
   "metadata": {},
   "outputs": [],
   "source": [
    "plt.imshow(model.layers[1].output[:, :, 0], cmap='gray')"
   ]
  },
  {
   "cell_type": "code",
   "execution_count": null,
   "metadata": {},
   "outputs": [],
   "source": [
    "plt.imshow(model.layers[2].output[:, :, 0], cmap='gray')"
   ]
  },
  {
   "cell_type": "code",
   "execution_count": null,
   "metadata": {},
   "outputs": [],
   "source": [
    "plt.imshow(model.layers[3].output[:, :, 0], cmap='gray')"
   ]
  },
  {
   "cell_type": "code",
   "execution_count": null,
   "metadata": {},
   "outputs": [],
   "source": [
    "plt.imshow(model.layers[4].output[:, :, 0], cmap='gray')"
   ]
  }
 ],
 "metadata": {
  "kernelspec": {
   "display_name": "Python 3.10.1 64-bit",
   "language": "python",
   "name": "python3"
  },
  "language_info": {
   "codemirror_mode": {
    "name": "ipython",
    "version": 3
   },
   "file_extension": ".py",
   "mimetype": "text/x-python",
   "name": "python",
   "nbconvert_exporter": "python",
   "pygments_lexer": "ipython3",
   "version": "3.10.1"
  },
  "orig_nbformat": 4,
  "vscode": {
   "interpreter": {
    "hash": "deee277ef8cb4a05cf6441d551c854fa5e547ddedbca2c10e6f5685ea62b6c02"
   }
  }
 },
 "nbformat": 4,
 "nbformat_minor": 2
}

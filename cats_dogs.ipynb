{
 "cells": [
  {
   "cell_type": "code",
   "execution_count": null,
   "metadata": {},
   "outputs": [],
   "source": [
    "from model import layers, activations, networks, preprocessing, optimizers, losses\n",
    "import numpy as np\n",
    "import pandas as pd\n",
    "import matplotlib.pyplot as plt\n",
    "import matplotlib\n",
    "import random\n",
    "import os"
   ]
  },
  {
   "cell_type": "code",
   "execution_count": null,
   "metadata": {},
   "outputs": [],
   "source": [
    "filepath = 'datasets\\\\catsanddogs\\\\Petimages'\n",
    "\n",
    "from numpy import asarray\n",
    "\n",
    "rgb_weights = [0.2989, 0.5870, 0.1140]\n",
    "\n",
    "list_x = []\n",
    "list_y = []\n",
    "\n",
    "image_count = len(os.listdir(filepath + '\\\\Cat')) + len(os.listdir(filepath + '\\\\Dog'))\n",
    "\n",
    "c = 1\n",
    "\n",
    "for category in ['Cat', 'Dog']:\n",
    "    path = filepath + '\\\\' + category\n",
    "    for i in os.listdir(path):\n",
    "        if i[-3:] != 'jpg': continue\n",
    "        image_rgb = Image.open(path + '\\\\' + i)\n",
    "        image_resized = image_rgb.resize((180, 180))\n",
    "        image_arr = np.asarray(image_resized)\n",
    "        if len(image_arr.shape) != 3: continue\n",
    "        image_gray = np.mean(image_arr, axis=2)\n",
    "        list_x.append(image_gray / 255)\n",
    "        list_y.append(i[0])\n",
    "        c = c + 1\n",
    "        print(f'{c}/{image_count} images loaded', end='\\r')"
   ]
  },
  {
   "cell_type": "code",
   "execution_count": null,
   "metadata": {},
   "outputs": [],
   "source": [
    "X = np.array(list_x)\n",
    "Y = np.array(list_y)"
   ]
  },
  {
   "cell_type": "code",
   "execution_count": null,
   "metadata": {},
   "outputs": [],
   "source": [
    "plt.imshow(X[0], cmap='gray')"
   ]
  },
  {
   "cell_type": "code",
   "execution_count": null,
   "metadata": {},
   "outputs": [],
   "source": [
    "model = networks.FeedForward([\n",
    "    layers.Input((180, 180)),\n",
    "    layers.Convolutional(5, (3, 3), activation=activations.ReLu),\n",
    "    layers.Output()\n",
    "])"
   ]
  },
  {
   "cell_type": "code",
   "execution_count": null,
   "metadata": {},
   "outputs": [],
   "source": [
    "model.compile(\n",
    "    optimizer=optimizers.stochastic_gradient_descent(eta=0.01),\n",
    "    loss=losses.categorical_crossentropy)"
   ]
  },
  {
   "cell_type": "code",
   "execution_count": null,
   "metadata": {},
   "outputs": [],
   "source": [
    "# model.train(x_train, y_train, epochs=50, batch_size=2000)"
   ]
  },
  {
   "cell_type": "code",
   "execution_count": null,
   "metadata": {},
   "outputs": [],
   "source": [
    "# model.evaluate(x_test, y_test)"
   ]
  },
  {
   "cell_type": "code",
   "execution_count": null,
   "metadata": {},
   "outputs": [],
   "source": [
    "i = random.randint(0, len(X) - 1)\n",
    "image = X[i]\n",
    "plt.imshow(image, cmap='gray')"
   ]
  },
  {
   "cell_type": "code",
   "execution_count": null,
   "metadata": {},
   "outputs": [],
   "source": [
    "p = model.predict(image)"
   ]
  },
  {
   "cell_type": "code",
   "execution_count": null,
   "metadata": {},
   "outputs": [],
   "source": [
    "for i in p:\n",
    "    plt.imshow(i, cmap='gray')\n",
    "    plt.show()"
   ]
  },
  {
   "cell_type": "code",
   "execution_count": null,
   "metadata": {},
   "outputs": [],
   "source": [
    "# plt.bar(np.arange(0, 10), p.reshape(10,))"
   ]
  }
 ],
 "metadata": {
  "kernelspec": {
   "display_name": "Python 3.10.1 64-bit",
   "language": "python",
   "name": "python3"
  },
  "language_info": {
   "codemirror_mode": {
    "name": "ipython",
    "version": 3
   },
   "file_extension": ".py",
   "mimetype": "text/x-python",
   "name": "python",
   "nbconvert_exporter": "python",
   "pygments_lexer": "ipython3",
   "version": "3.10.1"
  },
  "orig_nbformat": 4,
  "vscode": {
   "interpreter": {
    "hash": "deee277ef8cb4a05cf6441d551c854fa5e547ddedbca2c10e6f5685ea62b6c02"
   }
  }
 },
 "nbformat": 4,
 "nbformat_minor": 2
}

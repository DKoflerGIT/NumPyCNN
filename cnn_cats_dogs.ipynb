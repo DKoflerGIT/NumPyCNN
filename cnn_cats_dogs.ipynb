{
 "cells": [
  {
   "cell_type": "code",
   "execution_count": null,
   "metadata": {},
   "outputs": [],
   "source": [
    "from model import layers, activations, networks, utils, optimizers, losses, paddings, metrics\n",
    "import numpy as np\n",
    "import matplotlib.pyplot as plt\n",
    "from PIL import Image\n",
    "import random\n",
    "import os"
   ]
  },
  {
   "cell_type": "code",
   "execution_count": null,
   "metadata": {},
   "outputs": [],
   "source": [
    "def loadImages(n):\n",
    "    filepath = 'datasets\\\\catsanddogs\\\\Petimages'\n",
    "    list_x = []\n",
    "    list_y = []\n",
    "\n",
    "    c = 0\n",
    "    for category in ['Cat', 'Dog']:\n",
    "        path = filepath + '\\\\' + category\n",
    "        for i, image in enumerate(os.listdir(path)):\n",
    "            if i >= n / 2: break\n",
    "            if image[-3:] != 'jpg': continue\n",
    "            image_rgb = Image.open(path + '\\\\' + image)\n",
    "            image_resized = image_rgb.resize((128, 128))\n",
    "            image_arr = np.asarray(image_resized)\n",
    "            if len(image_arr.shape) != 3: continue\n",
    "            list_x.append(image_arr / 255)\n",
    "            list_y.append(0 if category == 'Cat' else 1)\n",
    "            c = c + 1\n",
    "            print(f'{c}/{n} images loaded', end='\\r')\n",
    "    return np.array(list_x), np.array(list_y)\n",
    "\n",
    "X, Y = loadImages(500)"
   ]
  },
  {
   "cell_type": "code",
   "execution_count": null,
   "metadata": {},
   "outputs": [],
   "source": [
    "Y = np.expand_dims(Y, -1)\n",
    "print(X.shape)\n",
    "print(Y.shape)"
   ]
  },
  {
   "cell_type": "code",
   "execution_count": null,
   "metadata": {},
   "outputs": [],
   "source": [
    "X, Y = utils.shuffle(X, Y)\n",
    "l = int(len(X) * 0.7)\n",
    "[x_train, x_test] = np.split(X, [l])\n",
    "[y_train, y_test] = np.split(Y, [l])\n",
    "\n",
    "print(x_train.shape)\n",
    "print(y_train.shape)\n",
    "print(x_test.shape)\n",
    "print(y_test.shape)"
   ]
  },
  {
   "cell_type": "code",
   "execution_count": null,
   "metadata": {},
   "outputs": [],
   "source": [
    "model = networks.FeedForward([\n",
    "    layers.Input(input_shape=(128, 128, 3)),\n",
    "    layers.Convolution(nr_kernels=8, kernel_size=(3, 3), activation=activations.ReLu),\n",
    "    layers.MaxPooling(pooling_window=(2, 2)),\n",
    "    layers.Convolution(nr_kernels=16, kernel_size=(3, 3), activation=activations.ReLu),\n",
    "    layers.MaxPooling(pooling_window=(2, 2)),\n",
    "    layers.Flatten(),\n",
    "    layers.Dense(nr_neurons=128, activation=activations.ReLu),\n",
    "    layers.Dropout(0.1),\n",
    "    layers.Dense(nr_neurons=1, activation=activations.Sigmoid),\n",
    "    layers.Output()\n",
    "    ])"
   ]
  },
  {
   "cell_type": "code",
   "execution_count": null,
   "metadata": {},
   "outputs": [],
   "source": [
    "model.compile(\n",
    "    optimizer=optimizers.stochastic_gradient_descent(learning_rate=0.01, momentum=0.9, nesterov=True),\n",
    "    loss=losses.root_mean_square,\n",
    "    metric=metrics.Accuracy\n",
    "    )"
   ]
  },
  {
   "cell_type": "code",
   "execution_count": null,
   "metadata": {},
   "outputs": [],
   "source": [
    "model.summary()"
   ]
  },
  {
   "cell_type": "code",
   "execution_count": null,
   "metadata": {},
   "outputs": [],
   "source": [
    "model.train(x_train, y_train, epochs=50, batch_size=50)"
   ]
  },
  {
   "cell_type": "code",
   "execution_count": null,
   "metadata": {},
   "outputs": [],
   "source": [
    "model.evaluate(x_test, y_test)"
   ]
  },
  {
   "cell_type": "code",
   "execution_count": null,
   "metadata": {},
   "outputs": [],
   "source": [
    "image = X[2]\n",
    "plt.imshow(image)\n",
    "model.predict(image)"
   ]
  },
  {
   "cell_type": "code",
   "execution_count": null,
   "metadata": {},
   "outputs": [],
   "source": [
    "layer = 1\n",
    "for i in range(model.layers[layer].k):\n",
    "    plt.imshow(model.layers[layer].o[:, :, i], cmap='gray')\n",
    "    plt.show()"
   ]
  }
 ],
 "metadata": {
  "kernelspec": {
   "display_name": "Python 3.10.1 64-bit",
   "language": "python",
   "name": "python3"
  },
  "language_info": {
   "codemirror_mode": {
    "name": "ipython",
    "version": 3
   },
   "file_extension": ".py",
   "mimetype": "text/x-python",
   "name": "python",
   "nbconvert_exporter": "python",
   "pygments_lexer": "ipython3",
   "version": "3.10.1"
  },
  "orig_nbformat": 4,
  "vscode": {
   "interpreter": {
    "hash": "deee277ef8cb4a05cf6441d551c854fa5e547ddedbca2c10e6f5685ea62b6c02"
   }
  }
 },
 "nbformat": 4,
 "nbformat_minor": 2
}

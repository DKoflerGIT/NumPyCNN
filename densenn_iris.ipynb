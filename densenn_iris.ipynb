{
 "cells": [
  {
   "cell_type": "code",
   "execution_count": null,
   "metadata": {},
   "outputs": [],
   "source": [
    "from model import layers, activations, networks, utils, optimizers, losses, metrics\n",
    "import numpy as np\n",
    "import pandas as pd\n",
    "import seaborn as sns"
   ]
  },
  {
   "cell_type": "code",
   "execution_count": null,
   "metadata": {},
   "outputs": [],
   "source": [
    "data_orig = pd.read_csv('datasets/iris.data', names=['sepal length', 'sepal width', 'petal length', 'petal width', 'species'])\n",
    "data = data_orig.copy()\n",
    "data"
   ]
  },
  {
   "cell_type": "code",
   "execution_count": null,
   "metadata": {},
   "outputs": [],
   "source": [
    "# sns.pairplot(data, hue='species')"
   ]
  },
  {
   "cell_type": "code",
   "execution_count": null,
   "metadata": {},
   "outputs": [],
   "source": [
    "data = utils.categorical_to_numeric(data)\n",
    "array = data.to_numpy()\n",
    "train_array, test_array = utils.split_train_test_data(array, ratio=0.2)\n",
    "\n",
    "train_array_normalized = utils.normalize(train_array)\n",
    "test_array_normalized = utils.normalize(test_array)\n",
    "\n",
    "x_train, y_train = utils.split_X_Y(train_array_normalized, 4)\n",
    "x_test, y_test = utils.split_X_Y(test_array_normalized, 4)\n",
    "\n",
    "x_train = utils.expand_dims(x_train, 4)\n",
    "y_train = utils.expand_dims(y_train, 2)\n",
    "x_test = utils.expand_dims(x_test, 4)\n",
    "y_test = utils.expand_dims(y_test, 2)\n",
    "\n",
    "print (f'x_train shape={x_train.shape}')\n",
    "print (f'y_train shape={y_train.shape}')\n",
    "print (f'x_test shape={x_test.shape}')\n",
    "print (f'y_test shape={y_test.shape}')"
   ]
  },
  {
   "cell_type": "code",
   "execution_count": null,
   "metadata": {},
   "outputs": [],
   "source": [
    "model = networks.FeedForward([\n",
    "    layers.Input(input_shape=(4,)),\n",
    "    layers.Dense(nr_neurons=8, activation=activations.ReLu),\n",
    "    layers.Dense(nr_neurons=8, activation=activations.ReLu),\n",
    "    layers.Dense(nr_neurons=8, activation=activations.ReLu),\n",
    "    layers.Dense(nr_neurons=3, activation=activations.Softmax),\n",
    "    layers.Output()\n",
    "])"
   ]
  },
  {
   "cell_type": "code",
   "execution_count": null,
   "metadata": {},
   "outputs": [],
   "source": [
    "model.compile(\n",
    "    optimizer=optimizers.sgd(learning_rate=0.01),\n",
    "    loss=losses.crossentropy,\n",
    "    metric=metrics.Accuracy)"
   ]
  },
  {
   "cell_type": "code",
   "execution_count": null,
   "metadata": {},
   "outputs": [],
   "source": [
    "model.train(x_train, y_train, epochs=500, log=True)"
   ]
  },
  {
   "cell_type": "code",
   "execution_count": null,
   "metadata": {},
   "outputs": [],
   "source": [
    "model.evaluate(x_test, y_test)"
   ]
  }
 ],
 "metadata": {
  "kernelspec": {
   "display_name": "Python 3.10.1 64-bit",
   "language": "python",
   "name": "python3"
  },
  "language_info": {
   "codemirror_mode": {
    "name": "ipython",
    "version": 3
   },
   "file_extension": ".py",
   "mimetype": "text/x-python",
   "name": "python",
   "nbconvert_exporter": "python",
   "pygments_lexer": "ipython3",
   "version": "3.10.1"
  },
  "orig_nbformat": 4,
  "vscode": {
   "interpreter": {
    "hash": "deee277ef8cb4a05cf6441d551c854fa5e547ddedbca2c10e6f5685ea62b6c02"
   }
  }
 },
 "nbformat": 4,
 "nbformat_minor": 2
}

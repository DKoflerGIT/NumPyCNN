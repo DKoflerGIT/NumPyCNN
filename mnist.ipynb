{
 "cells": [
  {
   "cell_type": "code",
   "execution_count": null,
   "metadata": {},
   "outputs": [],
   "source": [
    "from model import layers, activations, networks, utils, optimizers, losses, metrics\n",
    "import numpy as np\n",
    "import pandas as pd\n",
    "from tensorflow import keras\n",
    "import matplotlib.pyplot as plt\n",
    "import random"
   ]
  },
  {
   "cell_type": "code",
   "execution_count": null,
   "metadata": {},
   "outputs": [],
   "source": [
    "(x_train , y_train), (x_test , y_test) = keras.datasets.mnist.load_data()\n",
    "y_train = keras.utils.to_categorical(y_train, 10)\n",
    "y_test = keras.utils.to_categorical(y_test, 10)"
   ]
  },
  {
   "cell_type": "code",
   "execution_count": null,
   "metadata": {},
   "outputs": [],
   "source": [
    "x_train = x_train / 255\n",
    "x_test = x_test / 255\n",
    "\n",
    "x_train = utils.expand_dims(x_train, 4)\n",
    "y_train = utils.expand_dims(y_train, 2)\n",
    "x_test = utils.expand_dims(x_test, 4)\n",
    "y_test = utils.expand_dims(y_test, 2)\n",
    "\n",
    "print (f'x_train shape={x_train.shape}')\n",
    "print (f'y_train shape={y_train.shape}')\n",
    "print (f'x_test shape={x_test.shape}')\n",
    "print (f'y_test shape={y_test.shape}')"
   ]
  },
  {
   "cell_type": "code",
   "execution_count": null,
   "metadata": {},
   "outputs": [],
   "source": [
    "model = networks.FeedForward([\n",
    "    layers.Input(input_shape=(28, 28, 1)),\n",
    "    layers.Flatten(),\n",
    "    layers.Dense(nr_neurons=128, activation=activations.ReLu),\n",
    "    layers.Dense(nr_neurons=10, activation=activations.Softmax),\n",
    "    layers.Output()\n",
    "])"
   ]
  },
  {
   "cell_type": "code",
   "execution_count": null,
   "metadata": {},
   "outputs": [],
   "source": [
    "model.compile(\n",
    "    optimizer=optimizers.stochastic_gradient_descent(learning_rate=0.01, momentum=0.5, nesterov=True),\n",
    "    loss=losses.categorical_crossentropy,\n",
    "    metric=metrics.Accuracy)"
   ]
  },
  {
   "cell_type": "code",
   "execution_count": null,
   "metadata": {},
   "outputs": [],
   "source": [
    "model.train(x_train, y_train, epochs=20, batch_size=5000)"
   ]
  },
  {
   "cell_type": "code",
   "execution_count": null,
   "metadata": {},
   "outputs": [],
   "source": [
    "model.evaluate(x_test, y_test)"
   ]
  },
  {
   "cell_type": "code",
   "execution_count": null,
   "metadata": {},
   "outputs": [],
   "source": [
    "i = random.randint(0, len(x_train))\n",
    "image = x_train[i]\n",
    "p = model.predict(image)\n",
    "plt.imshow(image, cmap='gray')"
   ]
  },
  {
   "cell_type": "code",
   "execution_count": null,
   "metadata": {},
   "outputs": [],
   "source": [
    "plt.bar(np.arange(0, 10), p.reshape(10,))"
   ]
  }
 ],
 "metadata": {
  "kernelspec": {
   "display_name": "Python 3.10.1 64-bit",
   "language": "python",
   "name": "python3"
  },
  "language_info": {
   "codemirror_mode": {
    "name": "ipython",
    "version": 3
   },
   "file_extension": ".py",
   "mimetype": "text/x-python",
   "name": "python",
   "nbconvert_exporter": "python",
   "pygments_lexer": "ipython3",
   "version": "3.10.4"
  },
  "orig_nbformat": 4,
  "vscode": {
   "interpreter": {
    "hash": "deee277ef8cb4a05cf6441d551c854fa5e547ddedbca2c10e6f5685ea62b6c02"
   }
  }
 },
 "nbformat": 4,
 "nbformat_minor": 2
}

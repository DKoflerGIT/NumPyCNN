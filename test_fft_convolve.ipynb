{
 "cells": [
  {
   "cell_type": "code",
   "execution_count": 1,
   "metadata": {},
   "outputs": [],
   "source": [
    "import numpy as np\n",
    "from numpy.fft  import fft2, ifft2\n",
    "from model import layers, activations, networks, utils, optimizers, losses, metrics, paddings\n",
    "import matplotlib.pyplot as plt\n",
    "import os\n",
    "from PIL import Image"
   ]
  },
  {
   "cell_type": "code",
   "execution_count": null,
   "metadata": {},
   "outputs": [],
   "source": [
    "filepath = 'datasets\\\\catsanddogs\\\\Petimages\\\\Cat'\n",
    "image_rgb = Image.open(filepath + '\\\\' + os.listdir(filepath)[7])\n",
    "image_resized = image_rgb.resize((256, 256))\n",
    "image = np.asarray(image_resized) / 255\n",
    "\n",
    "plt.imshow(image, cmap='gray')"
   ]
  },
  {
   "cell_type": "code",
   "execution_count": null,
   "metadata": {},
   "outputs": [],
   "source": [
    "kernel = np.random.randint(-1, 1, (64, 3, 5, 5))"
   ]
  },
  {
   "cell_type": "code",
   "execution_count": null,
   "metadata": {},
   "outputs": [],
   "source": [
    "# %%timeit\n",
    "p = int(kernel.shape[2] / 2)\n",
    "c_scipy = np.zeros((image.shape[0] - 2 * p, image.shape[0] - 2 * p, kernel.shape[0]))\n",
    "for k in np.arange(kernel.shape[0]):\n",
    "    for c in np.arange(image.shape[2]):\n",
    "        c_scipy[:, :, k] += utils.convolve_scipy(image[:, :, c], kernel[k, c])"
   ]
  },
  {
   "attachments": {},
   "cell_type": "markdown",
   "metadata": {},
   "source": [
    "I further optimized the code shown here #https://laurentperrinet.github.io/sciblog/posts/2017-09-20-the-fastest-2d-convolution-in-the-world.html to create my own version of fft convolution.\n",
    "Performance-wise it gets very close to scipys convolution, but has the advantage of being able to convolve higher dimensional Arrays that are used in CNNs"
   ]
  },
  {
   "cell_type": "code",
   "execution_count": null,
   "metadata": {},
   "outputs": [],
   "source": [
    "def convolve_fft(image, kernel): # array shape (h, w, c), kernel shape (k, c, h, w)\n",
    "    C = np.zeros((*image.shape[:2], kernel.shape[0]))\n",
    "    kernel_fft = np.moveaxis(fft2(kernel, s=image.shape[:2]), 1, -1)\n",
    "    image_fft = fft2(image, axes=(0, 1))\n",
    "    for k in np.arange(kernel.shape[0]):\n",
    "        C[:, :, k] = np.sum(np.real(ifft2(image_fft * kernel_fft[k], axes=(0, 1))), axis=2)\n",
    "    p = int(kernel.shape[2] / 2)\n",
    "    return C[p : -p, p : -p]"
   ]
  },
  {
   "cell_type": "code",
   "execution_count": null,
   "metadata": {},
   "outputs": [],
   "source": [
    "# %%timeit\n",
    "c_1 = convolve_fft(image, kernel)"
   ]
  },
  {
   "cell_type": "code",
   "execution_count": null,
   "metadata": {},
   "outputs": [],
   "source": [
    "def convolve_fft2(image, kernel): # array shape (h, w, c), kernel shape (h, w, c, k)\n",
    "    kernel_fft = fft2(kernel, s=image.shape[:2], axes=(0, 1))\n",
    "    image_fft = np.repeat(np.expand_dims(fft2(image, axes=(0, 1)), -1), kernel.shape[-1], axis=-1)\n",
    "    image_fft = np.resize(fft2(image, axes=(0, 1)), kernel_fft.shape)\n",
    "    C = np.sum(np.real(ifft2(image_fft * kernel_fft, axes=(0, 1))), axis=2)\n",
    "    p = int(kernel.shape[2] / 2)\n",
    "    return C[p : -p, p : -p]"
   ]
  },
  {
   "cell_type": "code",
   "execution_count": null,
   "metadata": {},
   "outputs": [],
   "source": [
    "kernel_reshaped = np.moveaxis(np.moveaxis(kernel, 0, -1), 0, -2)\n",
    "kernel_reshaped.shape"
   ]
  },
  {
   "cell_type": "code",
   "execution_count": null,
   "metadata": {},
   "outputs": [],
   "source": [
    "# %%timeit\n",
    "c_2 = convolve_fft2(image, kernel_reshaped)"
   ]
  },
  {
   "attachments": {},
   "cell_type": "markdown",
   "metadata": {},
   "source": [
    "direct comparison"
   ]
  },
  {
   "cell_type": "code",
   "execution_count": 2,
   "metadata": {},
   "outputs": [
    {
     "data": {
      "text/plain": [
       "array([[180, 241,  83, 139, 182],\n",
       "       [ 79, 132, 176,  57,  13],\n",
       "       [186, 122,   8, 194,  40],\n",
       "       [116, 233,  49, 246, 115],\n",
       "       [176, 156, 150,  18, 244]])"
      ]
     },
     "execution_count": 2,
     "metadata": {},
     "output_type": "execute_result"
    }
   ],
   "source": [
    "a = np.random.randint(0, 255, (5, 5))\n",
    "a"
   ]
  },
  {
   "cell_type": "code",
   "execution_count": 3,
   "metadata": {},
   "outputs": [],
   "source": [
    "kernel = np.random.randint(0, 10, (2, 2))"
   ]
  },
  {
   "cell_type": "code",
   "execution_count": 4,
   "metadata": {},
   "outputs": [
    {
     "data": {
      "text/plain": [
       "1"
      ]
     },
     "execution_count": 4,
     "metadata": {},
     "output_type": "execute_result"
    }
   ],
   "source": [
    "import math\n",
    "p = math.ceil(kernel.shape[0] / 2)\n",
    "p"
   ]
  },
  {
   "cell_type": "code",
   "execution_count": 5,
   "metadata": {},
   "outputs": [
    {
     "data": {
      "text/plain": [
       "array([[4688., 3949., 3801., 1983., 3096.],\n",
       "       [3389., 4237., 3620., 2759., 3130.],\n",
       "       [1174., 2765., 3268., 2323., 1446.],\n",
       "       [2610., 3469., 2151., 2260., 3205.],\n",
       "       [3231., 4001., 3312., 3273., 3565.]])"
      ]
     },
     "execution_count": 5,
     "metadata": {},
     "output_type": "execute_result"
    }
   ],
   "source": [
    "c = utils.convolve_2d_fft(a, kernel)\n",
    "c"
   ]
  },
  {
   "cell_type": "code",
   "execution_count": 6,
   "metadata": {},
   "outputs": [
    {
     "data": {
      "text/plain": [
       "array([[4237., 3620., 2759., 3130.],\n",
       "       [2765., 3268., 2323., 1446.],\n",
       "       [3469., 2151., 2260., 3205.],\n",
       "       [4001., 3312., 3273., 3565.]])"
      ]
     },
     "execution_count": 6,
     "metadata": {},
     "output_type": "execute_result"
    }
   ],
   "source": [
    "c[p:, p:]"
   ]
  },
  {
   "cell_type": "code",
   "execution_count": 7,
   "metadata": {},
   "outputs": [
    {
     "data": {
      "text/plain": [
       "array([[4237, 3620, 2759, 3130],\n",
       "       [2765, 3268, 2323, 1446],\n",
       "       [3469, 2151, 2260, 3205],\n",
       "       [4001, 3312, 3273, 3565]])"
      ]
     },
     "execution_count": 7,
     "metadata": {},
     "output_type": "execute_result"
    }
   ],
   "source": [
    "d = utils.convolve_scipy(a, kernel)\n",
    "d"
   ]
  }
 ],
 "metadata": {
  "kernelspec": {
   "display_name": "Python 3",
   "language": "python",
   "name": "python3"
  },
  "language_info": {
   "codemirror_mode": {
    "name": "ipython",
    "version": 3
   },
   "file_extension": ".py",
   "mimetype": "text/x-python",
   "name": "python",
   "nbconvert_exporter": "python",
   "pygments_lexer": "ipython3",
   "version": "3.10.1"
  },
  "orig_nbformat": 4,
  "vscode": {
   "interpreter": {
    "hash": "deee277ef8cb4a05cf6441d551c854fa5e547ddedbca2c10e6f5685ea62b6c02"
   }
  }
 },
 "nbformat": 4,
 "nbformat_minor": 2
}

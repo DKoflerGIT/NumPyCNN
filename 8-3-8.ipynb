{
 "cells": [
  {
   "cell_type": "code",
   "execution_count": null,
   "metadata": {},
   "outputs": [],
   "source": [
    "from model import layers, activations, networks, utils, optimizers, losses, metrics\n",
    "import numpy as np\n",
    "import pandas as pd"
   ]
  },
  {
   "cell_type": "code",
   "execution_count": null,
   "metadata": {},
   "outputs": [],
   "source": [
    "data_orig = pd.read_excel('datasets/8_3_8.xlsx')\n",
    "data = data_orig.copy()\n",
    "data"
   ]
  },
  {
   "cell_type": "code",
   "execution_count": null,
   "metadata": {},
   "outputs": [],
   "source": [
    "train_data = data\n",
    "train_data_np = train_data.to_numpy()\n",
    "X, Y = utils.split_X_Y(train_data_np, 8)\n",
    "X = np.expand_dims(X, -1)\n",
    "X = np.expand_dims(X, -1)\n",
    "print (f'x shape={X.shape}')\n",
    "print (f'y shape={Y.shape}')"
   ]
  },
  {
   "cell_type": "code",
   "execution_count": null,
   "metadata": {},
   "outputs": [],
   "source": [
    "model = networks.FeedForward([\n",
    "    layers.Input(input_shape=(8,)),\n",
    "    layers.Dense(nr_neurons=3, activation=activations.Sigmoid),\n",
    "    layers.Dense(nr_neurons=8, activation=activations.Softmax),\n",
    "    layers.Output()\n",
    "])"
   ]
  },
  {
   "cell_type": "code",
   "execution_count": null,
   "metadata": {},
   "outputs": [],
   "source": [
    "model.compile(\n",
    "    optimizer=optimizers.stochastic_gradient_descent(learning_rate=0.5),\n",
    "    loss=losses.categorical_crossentropy,\n",
    "    metric=metrics.Accuracy)"
   ]
  },
  {
   "cell_type": "code",
   "execution_count": null,
   "metadata": {},
   "outputs": [],
   "source": [
    "model.train(X, Y, epochs=10000, log=False)"
   ]
  },
  {
   "cell_type": "code",
   "execution_count": null,
   "metadata": {},
   "outputs": [],
   "source": [
    "val_data_np = data.to_numpy()\n",
    "X_v, Y_v = utils.split_X_Y(val_data_np, 8)\n",
    "X_v = np.expand_dims(X_v, -1)\n",
    "X_v = np.expand_dims(X_v, -1)\n",
    "model.evaluate(X_v, Y_v)"
   ]
  },
  {
   "cell_type": "code",
   "execution_count": null,
   "metadata": {},
   "outputs": [],
   "source": [
    "def encode(v):\n",
    "    arr = np.zeros((8, 1, 1))\n",
    "    arr[v - 1, 0, 0] = 1\n",
    "    return arr\n",
    "\n",
    "input = encode(1)\n",
    "\n",
    "p = model.predict(input)\n",
    "import matplotlib.pyplot as plt\n",
    "plt.bar(np.arange(1, 9), p.reshape(8,))"
   ]
  }
 ],
 "metadata": {
  "kernelspec": {
   "display_name": "Python 3.10.4 64-bit",
   "language": "python",
   "name": "python3"
  },
  "language_info": {
   "codemirror_mode": {
    "name": "ipython",
    "version": 3
   },
   "file_extension": ".py",
   "mimetype": "text/x-python",
   "name": "python",
   "nbconvert_exporter": "python",
   "pygments_lexer": "ipython3",
   "version": "3.10.4"
  },
  "orig_nbformat": 4,
  "vscode": {
   "interpreter": {
    "hash": "deee277ef8cb4a05cf6441d551c854fa5e547ddedbca2c10e6f5685ea62b6c02"
   }
  }
 },
 "nbformat": 4,
 "nbformat_minor": 2
}
